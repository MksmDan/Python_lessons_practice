{
 "cells": [
  {
   "cell_type": "code",
   "execution_count": 1,
   "metadata": {},
   "outputs": [],
   "source": [
    "import numpy as np\n",
    "import matplotlib.pyplot as plt"
   ]
  },
  {
   "cell_type": "code",
   "execution_count": 3,
   "metadata": {},
   "outputs": [],
   "source": [
    "def get_trend(x, a):\n",
    "    y = a[0] * x ** 2 + a[1] * x + a[2]\n",
    "    return y"
   ]
  },
  {
   "cell_type": "code",
   "execution_count": 39,
   "metadata": {},
   "outputs": [
    {
     "name": "stdout",
     "output_type": "stream",
     "text": [
      "255.7 407.2 559.2 798.3 820.5 971.6 1221.1 1389.2\n",
      "256.9 340.3 390.3 400.4 397.1 355.4 213.5 66.5\n",
      "1380.4\n",
      "65.4\n",
      "h0 =  39.89, no\n"
     ]
    },
    {
     "data": {
      "text/plain": [
       "[<matplotlib.lines.Line2D at 0x2a6c0ab4fc8>]"
      ]
     },
     "execution_count": 39,
     "metadata": {},
     "output_type": "execute_result"
    },
    {
     "data": {
      "image/png": "[encoded data removed]",
      "text/plain": [
       "<Figure size 432x288 with 1 Axes>"
      ]
     },
     "metadata": {
      "needs_background": "light"
     },
     "output_type": "display_data"
    }
   ],
   "source": [
    "import numpy as np\n",
    "import matplotlib.pyplot as plt\n",
    "from numpy.polynomial.polynomial import Polynomial as P\n",
    "\n",
    "x_coord = np.array(input().split(), dtype = float)\n",
    "y_coord = np.array(input().split(), dtype = float)\n",
    "target_x = float(input())\n",
    "target_y = float(input())\n",
    "\n",
    "a = np.polyfit(x_coord, y_coord, 2)\n",
    "\n",
    "y_zero = get_trend(0, a)\n",
    "\n",
    "y_ball = get_trend(target_x, a)\n",
    "\n",
    "# delta_x = abs(target_x - x_ball)\n",
    "delta_y = abs(target_y - y_ball)\n",
    "\n",
    "if delta_y <= 0.5 :\n",
    "    print(\"h0 = %6.2f, %2s\"% (y_zero,\"yes\") )\n",
    "else:\n",
    "    print(\"h0 = %6.2f, %2s\" % (y_zero,\"no\")  )\n",
    "plt.plot([x_coord], y_coord, 'b+', markersize=12)"
   ]
  },
  {
   "cell_type": "code",
   "execution_count": 8,
   "metadata": {},
   "outputs": [],
   "source": [
    "def lin_trend(x, a):\n",
    "    y =  a[0]* x + a[1]\n",
    "    return y"
   ]
  },
  {
   "cell_type": "code",
   "execution_count": 9,
   "metadata": {},
   "outputs": [],
   "source": [
    "def sq_trend(x, a):\n",
    "    y = a[0] * x ** 2 + a[1]* x + a[2]\n",
    "    return y"
   ]
  },
  {
   "cell_type": "code",
   "execution_count": 28,
   "metadata": {
    "scrolled": true
   },
   "outputs": [
    {
     "name": "stdout",
     "output_type": "stream",
     "text": [
      "-8.9 -8.5 -8.0 -7.1 -6.8 -6.1 -5.6 -5.5 -5.2 -5.2 -5.2 -4.2 -4.1 -3.5\n",
      "-1.4 -1.2 -1.1 -0.9 -0.8 -0.6 -0.5 -0.4 -0.3 -0.3 -0.3 -0.1 0.1 0.1\n",
      "0.282 1.141\n"
     ]
    }
   ],
   "source": [
    "x_array = np.array(input().split(), dtype = float)\n",
    "y_array = np.array(input().split(), dtype = float)\n",
    "\n",
    "sq_P = np.polyfit(x_array, y_array, 2)\n",
    "lin_P = np.polyfit(x_array, y_array, 1)\n",
    "\n",
    "y_count_lin = lin_trend(x_array, lin_P)\n",
    "y_count_sq = sq_trend(x_array, sq_P)\n",
    "\n",
    "if len(y_array) == len(y_count_lin) == len(y_count_sq):\n",
    "    lin_err_arr = np.array([])\n",
    "    sq_err_arr = np.array([])\n",
    "    \n",
    "    for i in range(len(y_array)):\n",
    "        error_lin = abs(y_count_lin[i] - y_array[i]) / y_array[i]\n",
    "        lin_err_arr = np.append(lin_err_arr, error_lin)\n",
    "        lin_err_mid = np.sum(lin_err_arr) / len(lin_err_arr)\n",
    "    \n",
    "        error_sq = abs(y_count_sq[i] - y_array[i]) / y_array[i]\n",
    "        sq_err_arr = np.append(sq_err_arr, error_sq)\n",
    "        sq_err_mid = np.sum(sq_err_arr) / len(sq_err_arr)\n",
    "        \n",
    "    if sq_err_mid <= lin_err_mid:\n",
    "        print('%5.3f %5.3f %5.3f' % (sq_P[0], sq_P[1], sq_P[2]))\n",
    "         \n",
    "    else:\n",
    "        print(\"%5.3f %5.3f\" % (lin_P[0], lin_P[1]))\n",
    "    \n",
    "else:\n",
    "    \n",
    "    print('Error. Different lenght of the arrays')"
   ]
  },
  {
   "cell_type": "code",
   "execution_count": 21,
   "metadata": {},
   "outputs": [
    {
     "ename": "SyntaxError",
     "evalue": "invalid syntax (<ipython-input-21-2c885ce4995b>, line 2)",
     "output_type": "error",
     "traceback": [
      "\u001b[1;36m  File \u001b[1;32m\"<ipython-input-21-2c885ce4995b>\"\u001b[1;36m, line \u001b[1;32m2\u001b[0m\n\u001b[1;33m    -1.4 -1.2 -1.1 -0.9 -0.8 -0.6 -0.5 -0.4 -0.3 -0.3 -0.3 -0.1 0.1 0.1\u001b[0m\n\u001b[1;37m                                                                  ^\u001b[0m\n\u001b[1;31mSyntaxError\u001b[0m\u001b[1;31m:\u001b[0m invalid syntax\n"
     ]
    }
   ],
   "source": [
    "-8.9 -8.5 -8.0 -7.1 -6.8 -6.1 -5.6 -5.5 -5.2 -5.2 -5.2 -4.2 -4.1 -3.5\n",
    "-1.4 -1.2 -1.1 -0.9 -0.8 -0.6 -0.5 -0.4 -0.3 -0.3 -0.3 -0.1 0.1 0.1"
   ]
  },
  {
   "cell_type": "code",
   "execution_count": 4,
   "metadata": {},
   "outputs": [
    {
     "name": "stdout",
     "output_type": "stream",
     "text": [
      "2.7 2.8 3.3 4.2 4.4 4.8 5.1 7.1 7.4 7.5\n",
      "4.5 4.6 4.7 5.0 5.1 5.2 5.3 6.0 6.1 6.2\n",
      "0.342 3.586\n"
     ]
    }
   ],
   "source": [
    "import numpy as np\n",
    "\n",
    "def lin_trend(x, a):\n",
    "    y =  a[0]* x + a[1]\n",
    "    return y\n",
    "\n",
    "def sq_trend(x, a):\n",
    "    y = a[0] * x ** 2 + a[1]* x + a[2]\n",
    "    return y\n",
    "\n",
    "x_array = np.array(input().split(), dtype = float)\n",
    "y_array = np.array(input().split(), dtype = float)\n",
    "\n",
    "sq_P = np.polyfit(x_array, y_array, 2)\n",
    "lin_P = np.polyfit(x_array, y_array, 1)\n",
    "\n",
    "y_count_lin = lin_trend(x_array, lin_P)\n",
    "y_count_sq = sq_trend(x_array, sq_P)\n",
    "\n",
    "if len(y_array) == len(y_count_lin) == len(y_count_sq):\n",
    "    lin_err_arr = np.array([])\n",
    "    sq_err_arr = np.array([])\n",
    "    \n",
    "    for i in range(len(y_array)):\n",
    "        error_lin = abs(y_count_lin[i] - y_array[i] / y_array[i])\n",
    "        lin_err_arr = np.append(lin_err_arr, error_lin)\n",
    "        lin_err_mid = np.sum(lin_err_arr) / len(lin_err_arr)\n",
    "    \n",
    "        error_sq = abs(y_count_sq[i] - y_array[i] / y_array[i])\n",
    "        sq_err_arr = np.append(sq_err_arr, error_sq)\n",
    "        sq_err_mid = np.sum(sq_err_arr) / len(sq_err_arr)\n",
    "        \n",
    "    if sq_err_mid <= lin_err_mid:\n",
    "        print('%5.3f %5.3f %5.3f' % (sq_P[0], sq_P[1], sq_P[2]))\n",
    "         \n",
    "    else:\n",
    "        print(\"%5.3f %5.3f\" % (lin_P[0], lin_P[1]))\n",
    "else:   \n",
    "    print('Error. Different lenght of the arrays')"
   ]
  },
  {
   "cell_type": "code",
   "execution_count": 30,
   "metadata": {},
   "outputs": [
    {
     "name": "stdout",
     "output_type": "stream",
     "text": [
      "2.7 2.8 3.3 4.2 4.4 4.8 5.1 7.1 7.4 7.5\n",
      "4.5 4.6 4.7 5.0 5.1 5.2 5.3 6.0 6.1 6.2\n",
      "0.007 0.268 3.756\n"
     ]
    }
   ],
   "source": [
    "import numpy as np\n",
    "\n",
    "\n",
    "def lin_trend(x, a):\n",
    "    y =  a[0]* x + a[1]\n",
    "    return y\n",
    "\n",
    "def sq_trend(x, a):\n",
    "    y = a[0] * x ** 2 + a[1]* x + a[2]\n",
    "    return y\n",
    "\n",
    "\n",
    "OX_coord = np.array(input().split(), dtype = float)\n",
    "OY_coord = np.array(input().split(), dtype = float)\n",
    "\n",
    "lin_poly = np.polyfit(OX_coord, OY_coord, 1)\n",
    "sq_poly = np.polyfit(OX_coord, OY_coord, 2)\n",
    "\n",
    "OY_lin_predicted = lin_trend(OX_coord,lin_poly)\n",
    "OY_sq_predicted = sq_trend(OX_coord, sq_poly)\n",
    "\n",
    "lin_error = np.mean(np.array([abs((OY_lin_predicted[i] - OY_coord[i]) / OY_coord[i]) * 100 for i in range(len(OY_coord))]))\n",
    "sq_error = np.mean(np.array([abs((OY_sq_predicted[j] - OY_coord[j]) / OY_coord[j]) * 100 for j in range(len(OY_coord))]))\n",
    "\n",
    "if lin_error < sq_error:\n",
    "    print(\"%5.3f %5.3f\" % (lin_poly[0], lin_poly[1]))\n",
    "    \n",
    "else:\n",
    "    print(\"%5.3f %5.3f %5.3f\" % (sq_poly[0], sq_poly[1], sq_poly[2]))"
   ]
  },
  {
   "cell_type": "code",
   "execution_count": null,
   "metadata": {},
   "outputs": [],
   "source": [
    "2.7 2.8 3.3 4.2 4.4 4.8 5.1 7.1 7.4 7.5\n",
    "4.5 4.6 4.7 5.0 5.1 5.2 5.3 6.0 6.1 6.2"
   ]
  }
 ],
 "metadata": {
  "kernelspec": {
   "display_name": "Python 3",
   "language": "python",
   "name": "python3"
  },
  "language_info": {
   "codemirror_mode": {
    "name": "ipython",
    "version": 3
   },
   "file_extension": ".py",
   "mimetype": "text/x-python",
   "name": "python",
   "nbconvert_exporter": "python",
   "pygments_lexer": "ipython3",
   "version": "3.7.6"
  }
 },
 "nbformat": 4,
 "nbformat_minor": 4
}
