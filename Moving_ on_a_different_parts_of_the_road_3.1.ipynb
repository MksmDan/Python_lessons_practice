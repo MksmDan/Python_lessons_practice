{
 "cells": [
  {
   "cell_type": "code",
   "execution_count": 3,
   "metadata": {},
   "outputs": [],
   "source": [
    "import numpy as np"
   ]
  },
  {
   "cell_type": "code",
   "execution_count": null,
   "metadata": {},
   "outputs": [],
   "source": [
    "path = np.array(input().split(), dtype = int)  # Длина участка\n",
    "speed = np.array(input().split(), dtype = int)  # Средняя скорость\n",
    "\n",
    "s = np.sum(path)\n",
    "time = np.sum(path / speed)\n",
    "avg_vel = s / time\n",
    "\n",
    "print(\"S = %3d км, T = %5.2f час, V = %5.2f км/ч\" % (s, time, avg_vel))\n"
   ]
  },
  {
   "cell_type": "code",
   "execution_count": null,
   "metadata": {},
   "outputs": [],
   "source": [
    "import numpy as np\n",
    "\n",
    "a = np.array([2, 5, 2, 0, 0])\n",
    "\n",
    "b = np.array([5, -1, -1, 6, 2])\n",
    "\n",
    "c = np.where(np.logical_or(a >= 0, b == 6))[0]\n",
    "\n",
    "print(c)"
   ]
  },
  {
   "cell_type": "code",
   "execution_count": null,
   "metadata": {
    "scrolled": true
   },
   "outputs": [],
   "source": [
    "import numpy as np\n",
    "\n",
    "costs = np.array([1200, 1300, 900, 1450, 1300, 1000, 900, 1000, 1450, 1450, 1300, 1400])\n",
    "\n",
    "# посчитать сумму за проезд в зимние месяцы\n",
    "sum_winter = np.sum(costs[[-1, 0, 1]])\n",
    "# посчитать сумму за проезд в летние месяцы\n",
    "sum_summer = np.sum(costs[5 : 8])\n",
    "max_costs = max(costs)\n",
    "max_month = np.where(costs == max_costs)[0]\n",
    "\n",
    "if sum_winter > sum_summer:\n",
    "    print(\"Зимой на проезд потрачено больше денег, сумма: %4d руб.\" % sum_winter)\n",
    "elif sum_winter < sum_summer:\n",
    "    print(\"Летом на проезд потрачено больше денег, сумма: %4d руб.\" % sum_summer)\n",
    "else:\n",
    "    print(\"Зимой и летом на проезд тратится одинаковая, сумма: %4d руб.\" % sum_winter)\n",
    "    \n",
    "print(\"Самая большая сумма:%4d руб., потрачена в следующих месяцах:\" % max_costs, max_month + 1)"
   ]
  },
  {
   "cell_type": "code",
   "execution_count": 10,
   "metadata": {},
   "outputs": [
    {
     "name": "stdout",
     "output_type": "stream",
     "text": [
      "20 8 9 18 5 12 16 16 6 7\n",
      "44 70 44 66 46 38 38 37 66 67\n",
      "4\n",
      "7\n",
      "S =  49 км, T =  1.28 час, V = 38.34 км/ч\n"
     ]
    }
   ],
   "source": [
    "path = np.array(input().split(), dtype = int)  # Длина участка\n",
    "speed = np.array(input().split(), dtype = int)  # Средняя скорость движения по участку\n",
    "p = int(input())  # Номер участка с которого водитель вьехал на дорогу\n",
    "k = int(input())  # Номер участка с которого водитель съехал с дороги\n",
    "\n",
    "len_path = np.sum(path[p : k  + 1])\n",
    "time = np.sum(path[p : k + 1] / speed[p : k + 1])\n",
    "avg_vel = len_path / time\n",
    "\n",
    "print(\"S = %3d км, T = %5.2f час, V = %5.2f км/ч\" % (len_path, time, avg_vel))\n",
    "#print(len_path)"
   ]
  },
  {
   "cell_type": "code",
   "execution_count": null,
   "metadata": {},
   "outputs": [],
   "source": [
    "20 8 9 18 5 12 16 16 6 7\n",
    "44 70 44 66 46 38 38 37 66 67\n",
    "4\n",
    "7"
   ]
  }
 ],
 "metadata": {
  "kernelspec": {
   "display_name": "Python 3",
   "language": "python",
   "name": "python3"
  },
  "language_info": {
   "codemirror_mode": {
    "name": "ipython",
    "version": 3
   },
   "file_extension": ".py",
   "mimetype": "text/x-python",
   "name": "python",
   "nbconvert_exporter": "python",
   "pygments_lexer": "ipython3",
   "version": "3.7.6"
  }
 },
 "nbformat": 4,
 "nbformat_minor": 4
}
