{
 "cells": [
  {
   "cell_type": "code",
   "execution_count": 1,
   "metadata": {},
   "outputs": [],
   "source": [
    "from math import sqrt, exp, sin, cos, log, pi, asin, acos, degrees"
   ]
  },
  {
   "cell_type": "code",
   "execution_count": 2,
   "metadata": {},
   "outputs": [
    {
     "name": "stdout",
     "output_type": "stream",
     "text": [
      "2\n",
      "5\n",
      "0.0557\n"
     ]
    }
   ],
   "source": [
    "# подключить модуль math или импортировать из него все нужные функции\n",
    "\n",
    "x = float(input())\n",
    "\n",
    "y = float(input())\n",
    "\n",
    "up = asin(cos(x + sqrt(3) * pi / 2)) + 1.2 * sqrt(2 - cos(y) ** 2) \n",
    "down = x ** 2 + y ** 2 + 1\n",
    "# вычислить выражение, результат занести в переменную z        \n",
    "z = up / down\n",
    "print(round(z, 5))"
   ]
  },
  {
   "cell_type": "code",
   "execution_count": null,
   "metadata": {},
   "outputs": [],
   "source": [
    "def compute_resist(r_1, r_2):\n",
    "\n",
    "   r = r_1 * r_2 / (r_1 + r_2)\n",
    "\n",
    "   return r\n"
   ]
  },
  {
   "cell_type": "code",
   "execution_count": null,
   "metadata": {},
   "outputs": [],
   "source": [
    "res = compute_resist(11.0, 6.0)\n",
    "round(res, 3)\n",
    "print(res)"
   ]
  },
  {
   "cell_type": "code",
   "execution_count": 3,
   "metadata": {},
   "outputs": [],
   "source": [
    "def compute_len(x1, y1, x2, y2):\n",
    "    \n",
    "    len_line = sqrt((x1 - x2) ** 2 + (y1 - y2) ** 2)\n",
    "    return len_line\n",
    "    "
   ]
  },
  {
   "cell_type": "code",
   "execution_count": 4,
   "metadata": {},
   "outputs": [],
   "source": [
    "def compute_area(a, b, c):\n",
    "   \n",
    "    p = (a + b + c) / 2\n",
    "    area = sqrt(p * (p - a) * (p - b) * (p - c))\n",
    "    \n",
    "    return area"
   ]
  },
  {
   "cell_type": "code",
   "execution_count": 5,
   "metadata": {},
   "outputs": [],
   "source": [
    "def compute_angle(a, b, c):\n",
    "    \n",
    "    angle_rad = acos((a ** 2 + b ** 2 - c ** 2)/\n",
    "                     (2 * a * b))\n",
    "    \n",
    "    return degrees(angle_rad)"
   ]
  },
  {
   "cell_type": "code",
   "execution_count": 10,
   "metadata": {},
   "outputs": [],
   "source": [
    "def compute_radius_inside(a, b, c, p):\n",
    "    r = sqrt((p / 2 - a) * (p / 2 - b) * (p / 2 - c) / (p / 2))\n",
    "    \n",
    "    return r"
   ]
  },
  {
   "cell_type": "code",
   "execution_count": 17,
   "metadata": {},
   "outputs": [],
   "source": [
    "def compute_radius_outside(a, b, c, s):\n",
    "    R = a * b * c / (4 * s)\n",
    "    \n",
    "    return R"
   ]
  },
  {
   "cell_type": "code",
   "execution_count": 15,
   "metadata": {},
   "outputs": [],
   "source": [
    "def compute_mediane(a, b, c):\n",
    "    M_a = sqrt(2 * (c ** 2 + b ** 2) - a ** 2) / 2\n",
    "    M_b = sqrt(2 * (c ** 2 + a ** 2) - b ** 2) / 2\n",
    "    M_c = sqrt(2 * (a ** 2 + b ** 2) - c ** 2) / 2\n",
    "    \n",
    "    return sum([M_a, M_b, M_c])"
   ]
  },
  {
   "cell_type": "code",
   "execution_count": 16,
   "metadata": {},
   "outputs": [
    {
     "name": "stdout",
     "output_type": "stream",
     "text": [
      "x_a = -12.8\n",
      "y_a = 3.4\n",
      "x_b = -7.7\n",
      "y_b = 8.6\n",
      "x_c = -14.6\n",
      "y_c = -3.5\n",
      "Стороны :  13.929 7.131 7.284\n",
      "Площадь :  12.915\n",
      "Периметр :  28.344\n",
      "Углы :  150.177 14.75 15.073\n"
     ]
    }
   ],
   "source": [
    "x_a = float(input(\"x_a = \"))\n",
    "y_a = float(input(\"y_a = \"))\n",
    "x_b = float(input(\"x_b = \"))\n",
    "y_b = float(input(\"y_b = \"))\n",
    "x_c = float(input(\"x_c = \"))\n",
    "y_c = float(input(\"y_c = \"))\n",
    "\n",
    "c = compute_len(x_a, y_a, x_b, y_b)\n",
    "a = compute_len(x_b, y_b, x_c, y_c)\n",
    "b = compute_len(x_a, y_a, x_c, y_c)\n",
    "\n",
    "if a + b <= c or b + c <= a or a +c <= b:\n",
    "    \n",
    "    print(\"Треугольник не существует\")\n",
    "else:     \n",
    "    s = compute_area(a, b, c)\n",
    "    \n",
    "    p = a + b + c\n",
    "    \n",
    "    angle_A = compute_angle(c, b, a)\n",
    "    \n",
    "    angle_B = compute_angle(c, a, b)\n",
    "    \n",
    "    angle_C = compute_angle(a, b, c)\n",
    "\n",
    "    print(\"Стороны : \", round(a, 3), round(b, 3), round(c, 3))\n",
    "\n",
    "    print(\"Площадь : \", round(s,3))\n",
    "\n",
    "    print(\"Периметр : \", round(p,3))\n",
    "\n",
    "    print(\"Углы : \", round(angle_A, 3), round(angle_B, 3), round(angle_C, 3))"
   ]
  },
  {
   "cell_type": "code",
   "execution_count": 14,
   "metadata": {},
   "outputs": [
    {
     "name": "stdout",
     "output_type": "stream",
     "text": [
      "x_a = -12.8\n",
      "y_a = 3.4\n",
      "x_b = -7.7\n",
      "y_b = 8.6\n",
      "x_c = -14.6\n",
      "y_c = -3.5\n"
     ]
    },
    {
     "ename": "TypeError",
     "evalue": "sum expected at most 2 arguments, got 3",
     "output_type": "error",
     "traceback": [
      "\u001b[1;31m---------------------------------------------------------------------------\u001b[0m",
      "\u001b[1;31mTypeError\u001b[0m                                 Traceback (most recent call last)",
      "\u001b[1;32m<ipython-input-14-2d2946d9ebea>\u001b[0m in \u001b[0;36m<module>\u001b[1;34m\u001b[0m\n\u001b[0;32m     18\u001b[0m     \u001b[0mr\u001b[0m \u001b[1;33m=\u001b[0m \u001b[0mround\u001b[0m\u001b[1;33m(\u001b[0m\u001b[0mcompute_radius_inside\u001b[0m\u001b[1;33m(\u001b[0m\u001b[0ma\u001b[0m\u001b[1;33m,\u001b[0m \u001b[0mb\u001b[0m\u001b[1;33m,\u001b[0m \u001b[0mc\u001b[0m\u001b[1;33m,\u001b[0m \u001b[0mp\u001b[0m\u001b[1;33m)\u001b[0m\u001b[1;33m,\u001b[0m \u001b[1;36m4\u001b[0m\u001b[1;33m)\u001b[0m\u001b[1;33m\u001b[0m\u001b[1;33m\u001b[0m\u001b[0m\n\u001b[0;32m     19\u001b[0m     \u001b[0mR\u001b[0m \u001b[1;33m=\u001b[0m \u001b[0mround\u001b[0m\u001b[1;33m(\u001b[0m\u001b[0mcompute_radius_outside\u001b[0m\u001b[1;33m(\u001b[0m\u001b[0ma\u001b[0m\u001b[1;33m,\u001b[0m \u001b[0mb\u001b[0m\u001b[1;33m,\u001b[0m \u001b[0mc\u001b[0m\u001b[1;33m,\u001b[0m \u001b[0ms\u001b[0m\u001b[1;33m)\u001b[0m\u001b[1;33m,\u001b[0m \u001b[1;36m4\u001b[0m\u001b[1;33m)\u001b[0m\u001b[1;33m\u001b[0m\u001b[1;33m\u001b[0m\u001b[0m\n\u001b[1;32m---> 20\u001b[1;33m     \u001b[0mM\u001b[0m \u001b[1;33m=\u001b[0m \u001b[0mround\u001b[0m\u001b[1;33m(\u001b[0m\u001b[0mcompute_mediane\u001b[0m\u001b[1;33m(\u001b[0m\u001b[0ma\u001b[0m\u001b[1;33m,\u001b[0m \u001b[0mb\u001b[0m\u001b[1;33m,\u001b[0m \u001b[0mc\u001b[0m\u001b[1;33m)\u001b[0m\u001b[1;33m,\u001b[0m \u001b[1;36m4\u001b[0m\u001b[1;33m)\u001b[0m\u001b[1;33m\u001b[0m\u001b[1;33m\u001b[0m\u001b[0m\n\u001b[0m\u001b[0;32m     21\u001b[0m     \u001b[0mprint\u001b[0m\u001b[1;33m(\u001b[0m\u001b[0mr\u001b[0m\u001b[1;33m,\u001b[0m \u001b[0mR\u001b[0m\u001b[1;33m,\u001b[0m \u001b[0mM\u001b[0m\u001b[1;33m)\u001b[0m\u001b[1;33m\u001b[0m\u001b[1;33m\u001b[0m\u001b[0m\n",
      "\u001b[1;32m<ipython-input-12-2926ad5cc31b>\u001b[0m in \u001b[0;36mcompute_mediane\u001b[1;34m(a, b, c)\u001b[0m\n\u001b[0;32m      4\u001b[0m     \u001b[0mM_c\u001b[0m \u001b[1;33m=\u001b[0m \u001b[0msqrt\u001b[0m\u001b[1;33m(\u001b[0m\u001b[1;36m2\u001b[0m \u001b[1;33m*\u001b[0m \u001b[1;33m(\u001b[0m\u001b[0ma\u001b[0m \u001b[1;33m**\u001b[0m \u001b[1;36m2\u001b[0m \u001b[1;33m+\u001b[0m \u001b[0mb\u001b[0m \u001b[1;33m**\u001b[0m \u001b[1;36m2\u001b[0m\u001b[1;33m)\u001b[0m \u001b[1;33m-\u001b[0m \u001b[0mc\u001b[0m \u001b[1;33m**\u001b[0m \u001b[1;36m2\u001b[0m\u001b[1;33m)\u001b[0m \u001b[1;33m/\u001b[0m \u001b[1;36m2\u001b[0m\u001b[1;33m\u001b[0m\u001b[1;33m\u001b[0m\u001b[0m\n\u001b[0;32m      5\u001b[0m \u001b[1;33m\u001b[0m\u001b[0m\n\u001b[1;32m----> 6\u001b[1;33m     \u001b[1;32mreturn\u001b[0m \u001b[0msum\u001b[0m\u001b[1;33m(\u001b[0m\u001b[0mM_a\u001b[0m\u001b[1;33m,\u001b[0m \u001b[0mM_b\u001b[0m\u001b[1;33m,\u001b[0m \u001b[0mM_c\u001b[0m\u001b[1;33m)\u001b[0m\u001b[1;33m\u001b[0m\u001b[1;33m\u001b[0m\u001b[0m\n\u001b[0m",
      "\u001b[1;31mTypeError\u001b[0m: sum expected at most 2 arguments, got 3"
     ]
    }
   ],
   "source": [
    "x_a = float(input(\"x_a = \"))\n",
    "y_a = float(input(\"y_a = \"))\n",
    "x_b = float(input(\"x_b = \"))\n",
    "y_b = float(input(\"y_b = \"))\n",
    "x_c = float(input(\"x_c = \"))\n",
    "y_c = float(input(\"y_c = \"))\n",
    "\n",
    "c = compute_len(x_a, y_a, x_b, y_b)\n",
    "a = compute_len(x_b, y_b, x_c, y_c)\n",
    "b = compute_len(x_a, y_a, x_c, y_c)\n",
    "if a + b <= c or b + c <= a or a +c <= b:\n",
    "    \n",
    "    print(\"error\") \n",
    "else:\n",
    "    p = a + b + c\n",
    "    s = compute_area(a, b, c)\n",
    "    \n",
    "    r = round(compute_radius_inside(a, b, c, p), 4)\n",
    "    R = round(compute_radius_outside(a, b, c, s), 4)\n",
    "    M = round(compute_mediane(a, b, c), 4)\n",
    "    print(r, R, M)"
   ]
  },
  {
   "cell_type": "code",
   "execution_count": null,
   "metadata": {},
   "outputs": [],
   "source": []
  }
 ],
 "metadata": {
  "kernelspec": {
   "display_name": "Python 3",
   "language": "python",
   "name": "python3"
  },
  "language_info": {
   "codemirror_mode": {
    "name": "ipython",
    "version": 3
   },
   "file_extension": ".py",
   "mimetype": "text/x-python",
   "name": "python",
   "nbconvert_exporter": "python",
   "pygments_lexer": "ipython3",
   "version": "3.7.6"
  }
 },
 "nbformat": 4,
 "nbformat_minor": 4
}
