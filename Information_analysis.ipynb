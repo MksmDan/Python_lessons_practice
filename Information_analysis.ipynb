{
 "cells": [
  {
   "cell_type": "code",
   "execution_count": 4,
   "metadata": {},
   "outputs": [],
   "source": [
    "import math"
   ]
  },
  {
   "cell_type": "code",
   "execution_count": 21,
   "metadata": {},
   "outputs": [],
   "source": [
    "def compute_lambda(t):\n",
    "    b = 33\n",
    "    l_0 = 884\n",
    "    t_0 = 100\n",
    "    y = b * l_0 /(t-t_0)\n",
    "    return y"
   ]
  },
  {
   "cell_type": "code",
   "execution_count": 5,
   "metadata": {},
   "outputs": [
    {
     "name": "stdout",
     "output_type": "stream",
     "text": [
      "t1 = 1500\n",
      "t2 = 2000\n",
      "---------------------\n",
      "|       t |    L(t) |\n",
      "---------------------\n",
      "| 1500.00 |   20.84 |\n",
      "| 1526.32 |   20.45 |\n",
      "| 1552.63 |   20.08 |\n",
      "| 1578.95 |   19.72 |\n",
      "| 1605.26 |   19.38 |\n",
      "| 1631.58 |   19.05 |\n",
      "| 1657.89 |   18.73 |\n",
      "| 1684.21 |   18.41 |\n",
      "| 1710.53 |   18.11 |\n",
      "| 1736.84 |   17.82 |\n",
      "| 1763.16 |   17.54 |\n",
      "| 1789.47 |   17.27 |\n",
      "| 1815.79 |   17.00 |\n",
      "| 1842.11 |   16.75 |\n",
      "| 1868.42 |   16.50 |\n",
      "| 1894.74 |   16.25 |\n",
      "| 1921.05 |   16.02 |\n",
      "| 1947.37 |   15.79 |\n",
      "| 1973.68 |   15.57 |\n",
      "| 2000.00 |   15.35 |\n",
      "---------------------\n"
     ]
    }
   ],
   "source": [
    "t1=float(input(\"t1 = \"))\n",
    "t2=float(input(\"t2 = \"))\n",
    "\n",
    "if t2 <= t1 or t1 <= 100:\n",
    "    print(\"Неверные границы температур\")\n",
    "else:\n",
    "    n = 20\n",
    "    h = (t2 - t1)/(n - 1)\n",
    "    t_list = [t1 + i * h for i in range(0,n)]\n",
    "    lambda_list = [compute_lambda(t) for t in t_list]\n",
    "\n",
    "    print(\"-\" * 21)\n",
    "    print(\"| %7s | %7s |\" % (\"t\", \"L(t)\"))\n",
    "    print(\"-\" * 21)\n",
    "\n",
    "    for i in range(len(t_list)):\n",
    "        print(\"| %7.2f | %7.2f |\" % (t_list[i], lambda_list[i]))\n",
    "    print(\"-\" * 21)"
   ]
  },
  {
   "cell_type": "code",
   "execution_count": 8,
   "metadata": {},
   "outputs": [],
   "source": [
    "# s - сумма кредита\n",
    "# n - срок кредита\n",
    "# t - текущий месяц\n",
    "# k - процентная ставка\n",
    "def compute_payment(s, n, t, k):\n",
    "    p = (s / n) + (s - (t - 1) * (s / n)) * (k / (12 * 100))\n",
    "    return p\n",
    "\n",
    "    "
   ]
  },
  {
   "cell_type": "code",
   "execution_count": 13,
   "metadata": {
    "scrolled": true
   },
   "outputs": [
    {
     "name": "stdout",
     "output_type": "stream",
     "text": [
      "300000\n",
      "6\n",
      "20\n",
      " 1 месяц - 55000.00 руб\n",
      "55000.0\n",
      " 2 месяц - 54166.67 руб\n",
      "109166.66666666666\n",
      " 3 месяц - 53333.33 руб\n",
      "162500.0\n",
      " 4 месяц - 52500.00 руб\n",
      "215000.0\n",
      " 5 месяц - 51666.67 руб\n",
      "266666.6666666667\n",
      " 6 месяц - 50833.33 руб\n",
      "317500.0\n",
      "Доход банка - 17500.00 руб\n"
     ]
    }
   ],
   "source": [
    "s = int(input())\n",
    "n = int(input())\n",
    "k = int(input())\n",
    "payment = 0\n",
    "if s > 0 and n > 0 and k > 0 and k < 100:\n",
    "    for t in range(1, n+1):\n",
    "        p = compute_payment(s, n, t, k)\n",
    "        print(\"%2d месяц - %8.2f руб\" % (t, p))\n",
    "        payment = payment + p\n",
    "        print(payment)\n",
    "    income = payment - s\n",
    "    print(\"Доход банка - %6.2f руб\" % (income))\n",
    "else:\n",
    "    print(\"error\")"
   ]
  },
  {
   "cell_type": "code",
   "execution_count": 53,
   "metadata": {},
   "outputs": [
    {
     "name": "stdout",
     "output_type": "stream",
     "text": [
      "----------------------------------------\n",
      "|      t |    l(t) |  exp(t) |   error |\n",
      "----------------------------------------\n",
      "|    300 | 291.720 |   264.0 |  10.50% |\n",
      "|    400 | 145.860 |   148.0 |   1.45% |\n",
      "|    500 |  97.240 |    98.2 |   0.98% |\n",
      "|    600 |  72.930 |    76.2 |   4.29% |\n",
      "|    700 |  58.344 |    61.3 |   4.82% |\n",
      "|    800 |  48.620 |    50.8 |   4.29% |\n",
      "|    900 |  41.674 |    42.2 |   1.25% |\n",
      "|   1000 |  36.465 |    35.9 |   1.57% |\n",
      "|   1100 |  32.413 |    31.2 |   3.89% |\n",
      "|   1200 |  29.172 |    28.5 |   2.36% |\n",
      "|   1300 |  26.520 |    25.7 |   3.19% |\n",
      "----------------------------------------\n"
     ]
    },
    {
     "ename": "IndexError",
     "evalue": "list index out of range",
     "output_type": "error",
     "traceback": [
      "\u001b[1;31m---------------------------------------------------------------------------\u001b[0m",
      "\u001b[1;31mIndexError\u001b[0m                                Traceback (most recent call last)",
      "\u001b[1;32m<ipython-input-53-3701c8b33126>\u001b[0m in \u001b[0;36m<module>\u001b[1;34m\u001b[0m\n\u001b[0;32m     33\u001b[0m \u001b[1;33m\u001b[0m\u001b[0m\n\u001b[0;32m     34\u001b[0m print(\"Максимальная погрешность = %5.2f%%  при t = %5d\" \n\u001b[1;32m---> 35\u001b[1;33m       % (max_error * 100, t_list[index_max_error]))\n\u001b[0m\u001b[0;32m     36\u001b[0m \u001b[1;33m\u001b[0m\u001b[0m\n\u001b[0;32m     37\u001b[0m \u001b[0mmin_error\u001b[0m \u001b[1;33m=\u001b[0m \u001b[0mmin\u001b[0m\u001b[1;33m(\u001b[0m\u001b[0merror_list\u001b[0m\u001b[1;33m)\u001b[0m\u001b[1;33m\u001b[0m\u001b[1;33m\u001b[0m\u001b[0m\n",
      "\u001b[1;31mIndexError\u001b[0m: list index out of range"
     ]
    }
   ],
   "source": [
    "f = open(\"lambda_exp.txt\", \"r\")\n",
    "t_list =[]\n",
    "lambda_exp_list = []\n",
    "\n",
    "for line in f:\n",
    "    t_lambda_list = line.split()\n",
    "    t_list.append(float(t_lambda_list [0]))\n",
    "    lambda_exp_list.append(float(t_lambda_list [1]))\n",
    "    \n",
    "#t_lambda_list = t_lambda_list[1: -3]\n",
    "#t_list = t_list[1: -3]\n",
    "#lambda_exp_list =lambda_exp_list[1: -3]\n",
    "f.close()\n",
    "\n",
    "lambda_list =[compute_lambda(t) for t in t_list]\n",
    "\n",
    "error_list = [abs((lambda_exp_list[i] - lambda_list[i]) / lambda_exp_list[i] )\n",
    "              for i in range(len(t_list))]\n",
    "t_list = t_list[1: -3]\n",
    "error_list = error_list[1: -3]\n",
    "lambda_list = lamb\n",
    "\n",
    "\n",
    "print(\"-\" * 40)\n",
    "print(\"|%7s | %7s | %7s |%8s |\" % (\"t\",\"l(t)\",\"exp(t)\", \"error\"))\n",
    "print( \"-\" * 40)\n",
    "for i in range(len(t_list)):\n",
    "    print(\"|%7d | %7.3f | %7.1f |%7.2f%% |\"\n",
    "          % (t_list[i], lambda_list[i], lambda_exp_list[i], error_list[i] * 100))\n",
    "print(\"-\" * 40)  \n",
    "\n",
    "max_error = max(error_list)\n",
    "\n",
    "index_max_error = error_list.index(max_error)\n",
    "\n",
    "print(\"Максимальная погрешность = %5.2f%%  при t = %5d\" \n",
    "      % (max_error * 100, t_list[index_max_error]))\n",
    "\n",
    "min_error = min(error_list)\n",
    "index_min_error = error_list.index(min_error)\n",
    "print(\"Минимальная погрешность = %5.2f%%  при t = %5d\" \n",
    "      % (min_error * 100, t_list[index_min_error]))\n",
    "\n",
    "avg_error = sum(error_list) / len(t_list)\n",
    "print(\"Средняя погрешность = %5.2f%%\" % (avg_error * 100))"
   ]
  },
  {
   "cell_type": "code",
   "execution_count": 2,
   "metadata": {},
   "outputs": [],
   "source": [
    "def compute_population(t):\n",
    "    # t - год для которого происходит расчет\n",
    "    C = 172 \n",
    "    T1 = 2000\n",
    "    tay = 45\n",
    "    N = C / tay * (math.pi / 2 - math.atan((T1 - t) / tay))                \n",
    "    return N"
   ]
  },
  {
   "cell_type": "code",
   "execution_count": 34,
   "metadata": {},
   "outputs": [
    {
     "name": "stdout",
     "output_type": "stream",
     "text": [
      "7\n",
      "26\n",
      "Погрешность - минимальная, год: 1975, максимальная, год: 1960, средняя, процент:  1.929\n"
     ]
    }
   ],
   "source": [
    "years = [1000, 1750, 1800, 1850, 1900, 1950, 1955, \n",
    "         1960, 1965, 1970, 1975, 1980, 1985, 1990, 1995, \n",
    "         2000, 2005, 2010, 2011, 2012, 2013, 2014, 2015,\n",
    "         2016, 2017, 2018, 2019]\n",
    "population = [0.400, 0.791, 1.000, 1.262, 1.650, 2.519,\n",
    "             2.756, 3.021, 3.335, 3.692, 4.068, 4.435, 4.831,\n",
    "             5.264, 5.674, 6.071, 6.344, 6.933, 7.015, 7.100,\n",
    "             7.162, 7.271, 7.358, 7.444, 7.530, 7.669, 7.763] \n",
    "\n",
    "#population_list = []\n",
    "\n",
    "a = int(input())\n",
    "b = int(input())\n",
    "\n",
    "years = years[a:b+1]\n",
    "population = population[a:b+1]\n",
    "\n",
    "population_computed = [compute_population(t) for t in years]\n",
    "\n",
    "#for line in f:\n",
    "  #  population_list.append(float(years [0], population [0]))  \n",
    "    \n",
    "error_list = [abs((population_computed[i] - population[i]) / population[i] )\n",
    "              for i in range(len(population))]\n",
    "min_error = min(error_list)\n",
    "max_error = max(error_list)\n",
    "\n",
    "\n",
    "index_max_error = error_list.index(max_error)\n",
    "index_min_error = error_list.index(min_error)\n",
    "\n",
    "avg_error = sum(error_list) / len(error_list) \n",
    "\n",
    "print(\"Погрешность - минимальная, год: %4d, максимальная, год: %4d, средняя, процент: %6.3f\" % (\n",
    "    years[index_min_error], years[index_max_error], avg_error * 100))"
   ]
  },
  {
   "cell_type": "code",
   "execution_count": null,
   "metadata": {},
   "outputs": [],
   "source": [
    "7\n"
   ]
  },
  {
   "cell_type": "code",
   "execution_count": null,
   "metadata": {},
   "outputs": [],
   "source": []
  }
 ],
 "metadata": {
  "kernelspec": {
   "display_name": "Python 3",
   "language": "python",
   "name": "python3"
  },
  "language_info": {
   "codemirror_mode": {
    "name": "ipython",
    "version": 3
   },
   "file_extension": ".py",
   "mimetype": "text/x-python",
   "name": "python",
   "nbconvert_exporter": "python",
   "pygments_lexer": "ipython3",
   "version": "3.7.6"
  }
 },
 "nbformat": 4,
 "nbformat_minor": 4
}
