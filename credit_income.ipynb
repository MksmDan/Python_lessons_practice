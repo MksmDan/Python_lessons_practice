{
 "cells": [
  {
   "cell_type": "code",
   "execution_count": 15,
   "metadata": {},
   "outputs": [],
   "source": [
    "def differencial_payment(s, n, t, k):\n",
    "    pd = (s / n) + (s - (t - 1) * (s / n)) * k / 1200\n",
    "    return pd"
   ]
  },
  {
   "cell_type": "code",
   "execution_count": 16,
   "metadata": {},
   "outputs": [],
   "source": [
    "def annuetet_payment(k, n, s):\n",
    "    ka = k / 1200\n",
    "    pa = ((ka * (1 + ka) ** n) / ((1 + ka) ** n - 1)) * s\n",
    "    return pa"
   ]
  },
  {
   "cell_type": "code",
   "execution_count": 30,
   "metadata": {},
   "outputs": [
    {
     "name": "stdout",
     "output_type": "stream",
     "text": [
      "1000000\n",
      "12\n",
      "15\n",
      " 1 месяц - (диф.) 95833.33 руб - (анн.) 90258.31 руб\n",
      " 2 месяц - (диф.) 94791.67 руб - (анн.) 90258.31 руб\n",
      " 3 месяц - (диф.) 93750.00 руб - (анн.) 90258.31 руб\n",
      " 4 месяц - (диф.) 92708.33 руб - (анн.) 90258.31 руб\n",
      " 5 месяц - (диф.) 91666.67 руб - (анн.) 90258.31 руб\n",
      " 6 месяц - (диф.) 90625.00 руб - (анн.) 90258.31 руб\n",
      " 7 месяц - (диф.) 89583.33 руб - (анн.) 90258.31 руб\n",
      " 8 месяц - (диф.) 88541.67 руб - (анн.) 90258.31 руб\n",
      " 9 месяц - (диф.) 87500.00 руб - (анн.) 90258.31 руб\n",
      "10 месяц - (диф.) 86458.33 руб - (анн.) 90258.31 руб\n",
      "11 месяц - (диф.) 85416.67 руб - (анн.) 90258.31 руб\n",
      "12 месяц - (диф.) 84375.00 руб - (анн.) 90258.31 руб\n",
      "Доход банка - (диф.) 81250.00 руб - (анн.) 83099.75 руб\n"
     ]
    }
   ],
   "source": [
    "s = int(input())  #  Сумма кредита\n",
    "n = int(input()) #  срок кредита\n",
    "k = int(input())  # процент\n",
    "diff_sum = 0\n",
    "\n",
    "if s > 0 and n > 0 and 0 < k < 100:\n",
    "    ann = annuetet_payment(k, n, s)\n",
    "    for t in range(1, n+1):\n",
    "        diff = differencial_payment(s, n, t, k)\n",
    "        diff_sum = diff_sum + diff\n",
    "        print(\"%2d месяц - (диф.) %8.2f руб - (анн.) %8.2f руб\" % (t, diff, ann))\n",
    "    ann_inc = ann * n - s\n",
    "    diff_inc = diff_sum - s\n",
    "    print(\"Доход банка - (диф.) %6.2f руб - (анн.) %6.2f руб\" % (diff_inc, ann_inc))\n",
    "else:\n",
    "    print('Error. Wrong input')\n"
   ]
  },
  {
   "cell_type": "code",
   "execution_count": null,
   "metadata": {},
   "outputs": [],
   "source": [
    "1000000\n",
    "12\n",
    "15"
   ]
  }
 ],
 "metadata": {
  "kernelspec": {
   "display_name": "Python 3",
   "language": "python",
   "name": "python3"
  },
  "language_info": {
   "codemirror_mode": {
    "name": "ipython",
    "version": 3
   },
   "file_extension": ".py",
   "mimetype": "text/x-python",
   "name": "python",
   "nbconvert_exporter": "python",
   "pygments_lexer": "ipython3",
   "version": "3.7.6"
  }
 },
 "nbformat": 4,
 "nbformat_minor": 4
}
