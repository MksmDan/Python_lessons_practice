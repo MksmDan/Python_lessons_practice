{
 "cells": [
  {
   "cell_type": "code",
   "execution_count": 2,
   "metadata": {},
   "outputs": [
    {
     "name": "stdout",
     "output_type": "stream",
     "text": [
      "3.4 0.7 2.0 0.4 2.5 2.6 1.7 0.2 4.0 2.5\n",
      "6.4 8.3 6.8 6.7 7.4 6.4 8.9 4.7 5.3 7.6\n",
      "4.5\n",
      "\n",
      "0\n",
      "4\n",
      "6\n",
      "8\n",
      "9\n"
     ]
    }
   ],
   "source": [
    "zero_tpt = list(map(float, input().split()))\n",
    "twelve_tpt = list(map(float, input().split()))\n",
    "avg_tpt = float(input())\n",
    "print()\n",
    "if len(zero_tpt) == len(twelve_tpt):\n",
    "    calc_avg_tpt = [(i+j)/2 for i, j in zip(zero_tpt, twelve_tpt)]\n",
    "    for t in range(len(zero_tpt)):\n",
    "        if calc_avg_tpt[t] > avg_tpt:\n",
    "            print(t)\n",
    "else:\n",
    "    print('error')"
   ]
  },
  {
   "cell_type": "code",
   "execution_count": null,
   "metadata": {},
   "outputs": [],
   "source": [
    "#3.4 0.7 2.0 0.4 2.5 2.6 1.7 0.2 4.0 2.5\n",
    "#6.4 8.3 6.8 6.7 7.4 6.4 8.9 4.7 5.3 7.6"
   ]
  }
 ],
 "metadata": {
  "kernelspec": {
   "display_name": "Python 3",
   "language": "python",
   "name": "python3"
  },
  "language_info": {
   "codemirror_mode": {
    "name": "ipython",
    "version": 3
   },
   "file_extension": ".py",
   "mimetype": "text/x-python",
   "name": "python",
   "nbconvert_exporter": "python",
   "pygments_lexer": "ipython3",
   "version": "3.7.6"
  }
 },
 "nbformat": 4,
 "nbformat_minor": 4
}
