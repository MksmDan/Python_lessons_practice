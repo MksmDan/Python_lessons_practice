{
 "cells": [
  {
   "cell_type": "markdown",
   "metadata": {},
   "source": [
    "Билет на самолет на одного человека стоит k рублей туда и обратно. Автомобиль расходует 12 литров бензина на 100 км, а цена бензина –  p рублей за 1 литр. Расстояние от города А до В -  s км. Сколько рублей придется заплатить за самую дешевую поездку на троих туда и обратно?\n"
   ]
  },
  {
   "cell_type": "code",
   "execution_count": null,
   "metadata": {},
   "outputs": [],
   "source": [
    "k = float(input()) #Билет на одного человека туда и обратно\n",
    "p = float(input()) # Цена за литр бензина\n",
    "s = float(input()) # Расстояние от города A до города B \n",
    "\n",
    "if k <= 0 or p <= 0 or s <= 0:\n",
    "    print('error')\n",
    "    \n",
    "else:\n",
    "    cost_on_plane = k * 3\n",
    "    cost_on_car = 0.12 * p  * s * 2\n",
    "    \n",
    "    print(round(min(cost_on_plane, cost_on_car), 2))"
   ]
  },
  {
   "cell_type": "code",
   "execution_count": null,
   "metadata": {},
   "outputs": [],
   "source": [
    "5556.7\n",
    "47.5\n",
    "500"
   ]
  },
  {
   "cell_type": "markdown",
   "metadata": {},
   "source": [
    "Задача 2"
   ]
  },
  {
   "cell_type": "markdown",
   "metadata": {},
   "source": [
    "\n",
    "Написать программу, которая выводит номера всех велосипедов, которые открыты более 12 часов."
   ]
  },
  {
   "cell_type": "code",
   "execution_count": null,
   "metadata": {},
   "outputs": [],
   "source": [
    "A = list(map(int, input().split()))\n",
    "for i in range(len(A)):\n",
    "    if A[i] >= 12 * 60:\n",
    "        print(i)\n",
    "    else:\n",
    "        continue\n"
   ]
  },
  {
   "cell_type": "markdown",
   "metadata": {},
   "source": [
    "Задача 3"
   ]
  },
  {
   "cell_type": "markdown",
   "metadata": {},
   "source": [
    "\n",
    "Автомобиль из пункта А в пункт В проезжает по нескольким участкам дорог определенной длины. Для каждого участка известно среднее количество машин, находящихся на нем, в момент времени, когда там проезжает автомобиль. Плата за проезд по любому участку вычисляется в зависимости от количества автомобилей на 1 км дороги.Необходимо посчитать сумму, которую автомобилист должен заплатить за проезд из пункта А в пункт В как сумму платы за проезд по каждому участку."
   ]
  },
  {
   "cell_type": "code",
   "execution_count": null,
   "metadata": {},
   "outputs": [],
   "source": [
    "lenght_of_road = list(map(int, input().split()))\n",
    "cars_on_the_road = list(map(int, input().split()))\n",
    "cost = 0\n",
    "\n",
    "S = sum(lenght_of_road)\n",
    "\n",
    "for i in range(len(cars_on_the_road)):\n",
    "    if cars_on_the_road[i] / lenght_of_road[i]  <= 30:\n",
    "        cost += 1\n",
    "    elif 30 < cars_on_the_road[i] / lenght_of_road[i] <= 60:\n",
    "        cost += 1.5\n",
    "    elif 60 < cars_on_the_road[i] / lenght_of_road[i] <= 120:\n",
    "        cost += 3\n",
    "    else:\n",
    "        cost += 4.5\n",
    "print(\"Длина пути: %3d км, оплата: %5.2f S$\" % (S, cost))\n"
   ]
  },
  {
   "cell_type": "code",
   "execution_count": null,
   "metadata": {},
   "outputs": [],
   "source": [
    "6 4 5 3 3 2 6 5 4 4 4\n",
    "318 197 50 189 367 26 610 633 96 106 71"
   ]
  },
  {
   "cell_type": "markdown",
   "metadata": {},
   "source": [
    "Задача 4"
   ]
  },
  {
   "cell_type": "markdown",
   "metadata": {},
   "source": [
    "Даны длины стороны основания и высоты нескольких пирамид. Вывести номера пирамид, имеющих максимальный объем, и номера пирамид, имеющих минимальную площадь боковой поверхности."
   ]
  },
  {
   "cell_type": "code",
   "execution_count": null,
   "metadata": {},
   "outputs": [],
   "source": [
    "from math import hypot\n",
    "a = list(map(float, input().split()))\n",
    "h = list(map(float, input().split()))\n",
    "Vmax = 0\n",
    "Smin = 0\n",
    "for i in range(len(a)):\n",
    "    V = a[i] ** 2 * h[i] / 3\n",
    "    d = hypot(a[i] /2, h[i])\n",
    "    S = 2 * d * a[i] \n",
    "    if Smin == 0:\n",
    "        Smin = S\n",
    "        N_Smin = i\n",
    "    elif Smin > S:\n",
    "        Smin = S\n",
    "        N_Smin = i\n",
    "    if Vmax < V:\n",
    "        Vmax = V\n",
    "        N_Vmax = i\n",
    "print(\"Vmax: %2d, %8.2f, Smin: %2d, %8.2f\" % (N_Vmax, Vmax, N_Smin, Smin))"
   ]
  },
  {
   "cell_type": "code",
   "execution_count": null,
   "metadata": {},
   "outputs": [],
   "source": [
    "144 189 230 219 215 \n",
    "94 105 146.6 105 144"
   ]
  },
  {
   "cell_type": "markdown",
   "metadata": {},
   "source": [
    "Задача 3"
   ]
  },
  {
   "cell_type": "markdown",
   "metadata": {},
   "source": [
    "Пусть колесо обозрения имеет высоту H, совершает полный оборот за T минут. Вычислить, на какой высоте будет находиться кабинка через t минут после посадки в нее людей . В задаче реализовать проверку входных данных (время движения t ограничено T минутами), при вводе неверного числа вывести \"error\"."
   ]
  },
  {
   "cell_type": "code",
   "execution_count": null,
   "metadata": {},
   "outputs": [],
   "source": [
    "from math import pi, cos\n",
    "\n",
    "H = int(input())\n",
    "T = int(input())\n",
    "t = float(input())\n",
    "\n",
    "if 0 <= t <= T:\n",
    "    omega = 2 * pi / T\n",
    "    alpha = omega * t \n",
    "    y =  (H / 2) / cos(alpha)\n",
    "    h = H - y\n",
    "    print(\"Высота = %6.2f м\" % h)\n",
    "else:\n",
    "    print('error')\n",
    "    "
   ]
  },
  {
   "cell_type": "code",
   "execution_count": null,
   "metadata": {},
   "outputs": [],
   "source": [
    "import numpy as np\n",
    "from math import pi, cos, sin\n",
    "\n",
    "H = int(input())\n",
    "T = int(input())\n",
    "t = float(input())\n",
    "\n",
    "if 0 <= t <= T:\n",
    "    omega = 2 * pi / T\n",
    "    alpha = omega * t\n",
    "    coord = np.array([0, -H / 2])\n",
    "    turn_matrix = np.array([[cos(alpha), sin(alpha)],[sin(alpha), -cos(alpha)]])\n",
    "    coord_new = np.dot(coord, turn_matrix)\n",
    "    h = H / 2 - coord_new[1]\n",
    "    print(\"Высота = %6.2f м\" % h)\n",
    "else:\n",
    "    print('error')\n"
   ]
  },
  {
   "cell_type": "code",
   "execution_count": null,
   "metadata": {},
   "outputs": [],
   "source": [
    "165\n",
    "28\n",
    "30"
   ]
  },
  {
   "cell_type": "markdown",
   "metadata": {},
   "source": [
    "Задача 6"
   ]
  },
  {
   "cell_type": "markdown",
   "metadata": {},
   "source": [
    "На основе данных о количестве  туристов в некоторой стране с 2005 по 2017 год спрогнозировать количество туристов в 2018 году. Затем сравнить полученный результат с известным значением этого показателя для страны, вычислить  относительную погрешность в процентах."
   ]
  },
  {
   "cell_type": "code",
   "execution_count": 13,
   "metadata": {},
   "outputs": [
    {
     "name": "stdout",
     "output_type": "stream",
     "text": [
      "Великобритания\n",
      "28.039 30.654 30.87 30.142 28.199 28.295 29.306 29.282 31.063 32.613 34.436 35.814 37.651\n",
      "3\n",
      "41.2\n",
      "Страна:Великобритания, прогноз:41.774млн чел, относительная погрешность:1.39проц.\n"
     ]
    }
   ],
   "source": [
    "from numpy.polynomial.polynomial import Polynomial as P\n",
    "import numpy as np\n",
    "\n",
    "def get_trend(degree_of_poly, x, a):\n",
    "    if degree_of_poly == 1:\n",
    "        y = a[0] * x + a[1]\n",
    "        return y\n",
    "    elif degree_of_poly == 2:\n",
    "        y = a[0] * x ** 2.0 + a[1] * x + a[2]\n",
    "        return y\n",
    "    elif degree_of_poly == 3:\n",
    "        y = a[0] * x ** 3 + a[1] * x ** 2 + a[2] * x + a[3]\n",
    "        return y\n",
    "\n",
    "country = input()\n",
    "number_of_tourists = list(map(float,input().split()))\n",
    "degree_of_poly = int(input())\n",
    "tourists_in_2018 = float(input())\n",
    "years = [i for i in range(2005, 2018)]\n",
    "\n",
    "a = np.polyfit(years, number_of_tourists, deg = degree_of_poly)\n",
    "predicted_tourists_in_2018 = get_trend(degree_of_poly, 2018, a)\n",
    "print(\"Страна:%6s, прогноз:%6.3fмлн чел, относительная погрешность:%4.2fпроц.\" % (country, predicted_tourists_in_2018, 100 * abs((tourists_in_2018 - predicted_tourists_in_2018) / tourists_in_2018)))"
   ]
  },
  {
   "cell_type": "code",
   "execution_count": null,
   "metadata": {},
   "outputs": [],
   "source": [
    "Великобритания\n",
    "28.039 30.654 30.87 30.142 28.199 28.295 29.306 29.282 31.063 32.613 34.436 35.814 37.651\n",
    "3\n",
    "41.2\n"
   ]
  }
 ],
 "metadata": {
  "kernelspec": {
   "display_name": "Python 3",
   "language": "python",
   "name": "python3"
  },
  "language_info": {
   "codemirror_mode": {
    "name": "ipython",
    "version": 3
   },
   "file_extension": ".py",
   "mimetype": "text/x-python",
   "name": "python",
   "nbconvert_exporter": "python",
   "pygments_lexer": "ipython3",
   "version": "3.7.6"
  }
 },
 "nbformat": 4,
 "nbformat_minor": 4
}
