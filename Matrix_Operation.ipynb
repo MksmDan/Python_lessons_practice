{
 "cells": [
  {
   "cell_type": "code",
   "execution_count": 4,
   "metadata": {},
   "outputs": [],
   "source": [
    "import numpy as np\n",
    "import numpy.linalg as alg"
   ]
  },
  {
   "cell_type": "code",
   "execution_count": 16,
   "metadata": {},
   "outputs": [
    {
     "name": "stdout",
     "output_type": "stream",
     "text": [
      "[[ 0.1]\n",
      " [-0.1]\n",
      " [ 0.2]\n",
      " [-0.4]]\n"
     ]
    }
   ],
   "source": [
    "A = np.array([[-2, -8.5, -3.4, 3.5], [0, 2.4, 0, 8.2], [2.5, 1.6, 2.1, 3], [0.3, -0.4, -4.8, 4.6]])\n",
    "B = np.array([[-1.88], [-3.28], [-0.5], [-2.83]])\n",
    "inv_A = alg.inv(A)\n",
    "X = np.dot(inv_A,  B)\n",
    "print(np.around(X, 1))"
   ]
  },
  {
   "cell_type": "markdown",
   "metadata": {},
   "source": [
    "Задача: Повернуть  многоугольник на данный угол через матрицу поворота и посчитать среднее арифметическое для абсцисс и координат "
   ]
  },
  {
   "cell_type": "code",
   "execution_count": 1,
   "metadata": {},
   "outputs": [],
   "source": [
    "import numpy as np\n",
    "import numpy.linalg as alg\n",
    "from math import cos, sin, pi, radians"
   ]
  },
  {
   "cell_type": "code",
   "execution_count": 11,
   "metadata": {},
   "outputs": [
    {
     "name": "stdout",
     "output_type": "stream",
     "text": [
      "3\n",
      "-7 -8\n",
      "-11 4\n",
      "-9 5\n",
      "45\n",
      "[[  0.70710678 -10.60660172]\n",
      " [-10.60660172  -4.94974747]\n",
      " [ -9.89949494  -2.82842712]]\n",
      "avg_x =  -6.60, avg_y =  -6.13\n"
     ]
    }
   ],
   "source": [
    "N = int(input()) # Число углов\n",
    "A = []\n",
    "for i in range(N):\n",
    "    line = np.array(input().split(), dtype = int)\n",
    "    A.append(line)\n",
    "A = np.array(A) \n",
    "\n",
    "fi = int(input()) * pi / 180 # Угол поворота\n",
    "rotate = np.array([[cos(fi), sin(fi)], [-sin(fi), cos(fi)]])\n",
    "B = np.dot(A, rotate)\n",
    "\n",
    "avg_x = np.sum(B[:,0]) / 3\n",
    "avg_y = np.sum(B[:,1]) / 3\n",
    "print(\"avg_x = %6.2f, avg_y = %6.2f\" % (avg_x, avg_y))"
   ]
  },
  {
   "cell_type": "code",
   "execution_count": null,
   "metadata": {},
   "outputs": [],
   "source": [
    "3\n",
    "-7 -8\n",
    "-11 4\n",
    "-9 5\n",
    "45"
   ]
  }
 ],
 "metadata": {
  "kernelspec": {
   "display_name": "Python 3",
   "language": "python",
   "name": "python3"
  },
  "language_info": {
   "codemirror_mode": {
    "name": "ipython",
    "version": 3
   },
   "file_extension": ".py",
   "mimetype": "text/x-python",
   "name": "python",
   "nbconvert_exporter": "python",
   "pygments_lexer": "ipython3",
   "version": "3.7.6"
  }
 },
 "nbformat": 4,
 "nbformat_minor": 4
}
