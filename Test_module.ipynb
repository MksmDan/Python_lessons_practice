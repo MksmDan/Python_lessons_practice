{
 "cells": [
  {
   "cell_type": "code",
   "execution_count": 2,
   "metadata": {},
   "outputs": [],
   "source": [
    "from math import sqrt, ceil"
   ]
  },
  {
   "cell_type": "code",
   "execution_count": null,
   "metadata": {},
   "outputs": [],
   "source": [
    "def orbtal_speed(v):\n",
    "    if v"
   ]
  },
  {
   "cell_type": "code",
   "execution_count": null,
   "metadata": {},
   "outputs": [],
   "source": [
    "v = float(input())\n",
    "if v <= 0:\n",
    "    print('Error')\n",
    "elif v <= 7.8:\n",
    "    print('0')\n",
    "elif v < 11.2:\n",
    "    print('1')\n",
    "elif v <= 16.4:\n",
    "    print('2')\n",
    "else:\n",
    "    print('3')"
   ]
  },
  {
   "cell_type": "code",
   "execution_count": null,
   "metadata": {},
   "outputs": [],
   "source": [
    "def volume(a, h):\n",
    "    v = a ** 2 * h /(4 * sqrt(3))\n",
    "    return round(v, 3)"
   ]
  },
  {
   "cell_type": "code",
   "execution_count": null,
   "metadata": {},
   "outputs": [],
   "source": [
    "def full_square(a, h): \n",
    "    s = (a ** 2 * sqrt(3) / 4) + (3 * a / 2) * (sqrt(h ** 2 + a ** 2 / 12 ))\n",
    "    \n",
    "    return round(s, 3)\n",
    "    "
   ]
  },
  {
   "cell_type": "code",
   "execution_count": null,
   "metadata": {},
   "outputs": [],
   "source": [
    "a = float(input())\n",
    "h = float(input())\n",
    "\n",
    "if a <= 0 or h <= 0:\n",
    "    print('error')\n",
    "else:\n",
    "    v = volume(a, h)\n",
    "    s = full_square(a, h)\n",
    "    print(v, s)"
   ]
  },
  {
   "cell_type": "code",
   "execution_count": null,
   "metadata": {},
   "outputs": [],
   "source": [
    "year = int(input())\n",
    "\n",
    "if year < 1582:\n",
    "    print('error')\n",
    "elif year % 4 == 0:\n",
    "    if year % 100 == 0 and year % 400 != 0:\n",
    "        print('365')\n",
    "    else:\n",
    "        print('366')\n",
    "else:\n",
    "    print('365')"
   ]
  },
  {
   "cell_type": "code",
   "execution_count": null,
   "metadata": {},
   "outputs": [],
   "source": [
    "k = int(input())\n",
    "\n",
    "if k < 1 or k > 99:\n",
    "    print('ошибка')\n",
    "elif k % 10 == 1 and k !=11:\n",
    "    print(k, 'рубль')\n",
    "elif k % 10 in (2,3,4) and k not in [12,13,14]:\n",
    "    print(k, 'рубля')\n",
    "else:\n",
    "    print(k, 'рублей')\n",
    "# elif k % 5 == 0 or k % 10 == 6 or k % 10 == 7 or\\\n",
    "#     k % 10 == 8 or k % 10 = 9:\n",
    "#    print(k, 'рублей')    "
   ]
  },
  {
   "cell_type": "code",
   "execution_count": null,
   "metadata": {},
   "outputs": [],
   "source": [
    "def count_of_color(a, b, v):\n",
    "    consumption = a ** 2 * 5 * (b / 1000)\n",
    "    count = consumption / v\n",
    "    return ceil(count)"
   ]
  },
  {
   "cell_type": "code",
   "execution_count": null,
   "metadata": {},
   "outputs": [],
   "source": [
    "a = float(input()) #  площадь стороны кубического бассейна\n",
    "b = float(input()) # расход краски на 1 кв. м.\n",
    "v = int(input()) # обьем банки с краской\n",
    "\n",
    "if a <= 0 or b <= 0 or v <= 0:\n",
    "    print('error')\n",
    "else: \n",
    "    count = count_of_color(a, b, v)\n",
    "    print(count)"
   ]
  },
  {
   "cell_type": "code",
   "execution_count": 13,
   "metadata": {},
   "outputs": [],
   "source": [
    "def degrease_of_time(h, m, s):\n",
    "    move_hour = 360 / 12\n",
    "    move_minute = move_hour / 60\n",
    "    move_second = move_minute / 60\n",
    "    \n",
    "    degrease = move_hour * h + move_minute * m + move_second * s\n",
    "    return round(degrease, 2)"
   ]
  },
  {
   "cell_type": "code",
   "execution_count": 14,
   "metadata": {},
   "outputs": [
    {
     "name": "stdout",
     "output_type": "stream",
     "text": [
      "6\n",
      "47\n",
      "19\n",
      "203.66\n"
     ]
    }
   ],
   "source": [
    "h = int(input())\n",
    "m = int(input())\n",
    "s = int(input())\n",
    "\n",
    "if 0 <= h < 12 and 0 <= m < 60 and 0 <= s < 60:\n",
    "    d = degrease_of_time(h, m, s)\n",
    "    print(d)\n",
    "else:\n",
    "    print('error')\n"
   ]
  },
  {
   "cell_type": "code",
   "execution_count": null,
   "metadata": {},
   "outputs": [],
   "source": []
  }
 ],
 "metadata": {
  "kernelspec": {
   "display_name": "Python 3",
   "language": "python",
   "name": "python3"
  },
  "language_info": {
   "codemirror_mode": {
    "name": "ipython",
    "version": 3
   },
   "file_extension": ".py",
   "mimetype": "text/x-python",
   "name": "python",
   "nbconvert_exporter": "python",
   "pygments_lexer": "ipython3",
   "version": "3.7.6"
  }
 },
 "nbformat": 4,
 "nbformat_minor": 4
}
