{
 "cells": [
  {
   "cell_type": "code",
   "execution_count": 24,
   "metadata": {},
   "outputs": [
    {
     "name": "stdout",
     "output_type": "stream",
     "text": [
      "27 53 44 88 35 86 92 20 10 73 81\n",
      "97 22 57 58 37 55 34 29 80 55 71\n",
      "7\n",
      "68\n",
      "6\n"
     ]
    }
   ],
   "source": [
    "from math import sqrt\n",
    "\n",
    "OX_coord = list(map(int, input().split()))\n",
    "OY_coord = list(map(int, input().split()))\n",
    "k = int(input())\n",
    "r = int(input())\n",
    "count = 0\n",
    "\n",
    "if len(OX_coord) == len(OY_coord):\n",
    "    \n",
    "    station_OX_coord =OX_coord[k]\n",
    "    station_OY_coord = OY_coord[k]\n",
    "\n",
    "    OX_dist = [abs(OX_coord[i] - station_OX_coord) for i in range(len(OX_coord))]\n",
    "    OY_dist = [abs(OY_coord[j] - station_OY_coord) for j in range(len(OY_coord))]\n",
    "    \n",
    "    R = [sqrt(OX_dist[k] ** 2 + (OY_dist[k]) ** 2) for k in range(len(OX_dist))]\n",
    "    for k in range(len(R)):\n",
    "        if R[k] <= r:\n",
    "            count += 1\n",
    "    print(count)\n",
    "else:\n",
    "    \n",
    "    print('Error. Lists must be the same lenght')\n",
    "    \n",
    "#print(R)\n",
    "#print(OX_dist)  \n",
    "#print(OY_dist)\n",
    "#print(station_OX_coord, station_OY_coord)"
   ]
  },
  {
   "cell_type": "code",
   "execution_count": 9,
   "metadata": {},
   "outputs": [],
   "source": [
    "# 27 53 44 88 35 86 92 20 10 73 81\n",
    "# 97 22 57 58 37 55 34 29 80 55 71\n",
    "# 7\n",
    "# 68"
   ]
  }
 ],
 "metadata": {
  "kernelspec": {
   "display_name": "Python 3",
   "language": "python",
   "name": "python3"
  },
  "language_info": {
   "codemirror_mode": {
    "name": "ipython",
    "version": 3
   },
   "file_extension": ".py",
   "mimetype": "text/x-python",
   "name": "python",
   "nbconvert_exporter": "python",
   "pygments_lexer": "ipython3",
   "version": "3.7.6"
  }
 },
 "nbformat": 4,
 "nbformat_minor": 4
}
