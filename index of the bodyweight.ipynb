{
 "cells": [
  {
   "cell_type": "markdown",
   "metadata": {},
   "source": [
    "Свой вариант"
   ]
  },
  {
   "cell_type": "code",
   "execution_count": null,
   "metadata": {},
   "outputs": [],
   "source": [
    "#def bodymass_index():\n",
    "   # name = input('Введите ваше имя ')\n",
    "   # age = int(input('Введите ваш возра 'ст))\n",
    "   # if age  <= 10:\n",
    "        # print('Иди в школу', name)\n",
    "    #weight = float(input('Введите ваш вес '))\n",
    "    #height = float(input('Введите ваш рост в метрах '))\n",
    "    #bmi = round(weight / height ** 2, 2)\n",
    "    #print()\n",
    "    #if bmi < 18.5:\n",
    "    #    print('Сходи поешь ', name, 'а то совсем доходяга')\n",
    "    #elif bmi < 25:\n",
    "    #    print('С тобой все хорошо, поздравляю ', name)\n",
    "    #elif bmi < 30:\n",
    "     #   print('Ну что, ', name, ' хорошего человека должно быть много?))))')\n",
    "    #else:\n",
    "     #   print('Жирный, жирный как поезд пассажирный')\n",
    "    # print(name , 'Ваш индекс массы тела равен', bmi)\n",
    "    \n",
    "    \n",
    "    \n",
    "    "
   ]
  },
  {
   "cell_type": "markdown",
   "metadata": {},
   "source": [
    "Контрольный вариант"
   ]
  },
  {
   "cell_type": "code",
   "execution_count": 6,
   "metadata": {},
   "outputs": [
    {
     "name": "stdout",
     "output_type": "stream",
     "text": [
      "45\n",
      "70\n",
      "1.9\n",
      "bmi= 19.39 Вы относитесь к группе людей с недостаточной массой тела.\n"
     ]
    }
   ],
   "source": [
    "age = int(input())\n",
    "weight = float(input())\n",
    "height = float(input())\n",
    "if age  < 10 or height <= 0 or height > 3 or weight <= 0 or weight >500:\n",
    "    print('Ошибочные входные данные')\n",
    "elif age < 45: \n",
    "    bmi = round(weight / height ** 2, 2)\n",
    "    if bmi < 18.5:\n",
    "        description = \"недостаточной массой тела.\"\n",
    "    elif bmi < 25:\n",
    "        description = \"нормальной массой тела.\"    \n",
    "    elif bmi < 30:\n",
    "        description = \"избыточной массой тела.\"  \n",
    "    else:\n",
    "        description = \"ожирением.\"  \n",
    "    print(\"bmi=\", bmi, \"Вы относитесь к группе людей с\", description)\n",
    "else:\n",
    "    bmi = round(weight / height ** 2, 2)\n",
    "    if bmi < 22:\n",
    "        description = \"недостаточной массой тела.\"\n",
    "    elif bmi < 27:\n",
    "        description = \"нормальной массой тела.\"    \n",
    "    elif bmi < 32:\n",
    "        description = \"избыточной массой тела.\"  \n",
    "    else:\n",
    "        description = \"ожирением.\"  \n",
    "    print(\"bmi=\", bmi, \"Вы относитесь к группе людей с\", description)"
   ]
  },
  {
   "cell_type": "code",
   "execution_count": null,
   "metadata": {},
   "outputs": [],
   "source": []
  }
 ],
 "metadata": {
  "kernelspec": {
   "display_name": "Python 3",
   "language": "python",
   "name": "python3"
  },
  "language_info": {
   "codemirror_mode": {
    "name": "ipython",
    "version": 3
   },
   "file_extension": ".py",
   "mimetype": "text/x-python",
   "name": "python",
   "nbconvert_exporter": "python",
   "pygments_lexer": "ipython3",
   "version": "3.7.6"
  }
 },
 "nbformat": 4,
 "nbformat_minor": 4
}
