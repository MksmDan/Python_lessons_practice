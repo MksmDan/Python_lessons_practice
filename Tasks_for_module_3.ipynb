{
 "cells": [
  {
   "cell_type": "markdown",
   "metadata": {},
   "source": [
    "Тренажер по модулю 3\n",
    "Матрицы и векторы"
   ]
  },
  {
   "cell_type": "code",
   "execution_count": 5,
   "metadata": {},
   "outputs": [],
   "source": [
    "import numpy as np\n",
    "from math import sqrt \n",
    "from numpy.linalg import inv\n",
    "from numpy.polynomial.polynomial import Polynomial as P"
   ]
  },
  {
   "cell_type": "markdown",
   "metadata": {},
   "source": [
    "Задача 1\n",
    "Даны n точек на плоскости найти центр и минимальный радиус круга, куда попадут все эти точки."
   ]
  },
  {
   "cell_type": "code",
   "execution_count": 22,
   "metadata": {},
   "outputs": [
    {
     "name": "stdout",
     "output_type": "stream",
     "text": [
      "4\n",
      "13.5 -5.7\n",
      "17.8 -17.6\n",
      "-8.1 16.9\n",
      "10.6 14.9\n",
      "[[ 13.5  -5.7]\n",
      " [ 17.8 -17.6]\n",
      " [ -8.1  16.9]\n",
      " [ 10.6  14.9]]\n",
      "центр в точке ( 8.450,  2.125)\n",
      "[[  9.35  -19.725]\n",
      " [-16.55   14.775]\n",
      " [  2.15   12.775]]\n",
      "[[-16.55   14.775]\n",
      " [  2.15   12.775]]\n",
      "[[ 2.15  12.775]]\n",
      "[]\n",
      "r = 22.186\n"
     ]
    }
   ],
   "source": [
    "n = int(input()) # Число точек\n",
    "A = []\n",
    "for i in range(n):\n",
    "    line = np.array(input().split(), dtype = float)\n",
    "    A.append(line)\n",
    "A = np.array(A)\n",
    "# print(A)\n",
    "center = np.mean(A, axis = 0)\n",
    "print(\"центр в точке (%6.3f, %6.3f)\" % (center[0], center[1]))\n",
    "#print(\"центр в точке (%6.3f, %6.3f)\" % center)\n",
    "#x = A[:, 0]\n",
    "#x_center = np.mean(x)\n",
    "\n",
    "#y = A[:, 0]\n",
    "#y_center= np.mean(y)\n",
    "\n",
    "R = A - center\n",
    "r_list = []\n",
    "for i in range(n):\n",
    "    x = R[0, 0] \n",
    "    y = R[0, 1]\n",
    "    r = sqrt(x ** 2 + y ** 2)\n",
    "    r_list.append(r)\n",
    "    R = np.delete(R, 0, 0)\n",
    "    print(R)\n",
    "#print(r_list)\n",
    "r_list = np.array(r_list)    \n",
    "radius = r_list.max()\n",
    "\n",
    "print(\"центр в точке (%6.3f, %6.3f), r = %6.3f\" %(center[0], center[1], radius))"
   ]
  },
  {
   "cell_type": "markdown",
   "metadata": {},
   "source": [
    "Задача 2 \n"
   ]
  },
  {
   "cell_type": "markdown",
   "metadata": {},
   "source": [
    "Задача\n",
    "Электрическая цепь состоит из n ветвей, каждая ветвь состоит из резистора и источника ЭДС включенных последовательно. Известны сопротивление резистора r каждой ветви  и сила тока в каждой ветви i."
   ]
  },
  {
   "cell_type": "code",
   "execution_count": 5,
   "metadata": {},
   "outputs": [
    {
     "name": "stdout",
     "output_type": "stream",
     "text": [
      "0.9 0.6 1.3 1.6 1.6 0.9 0.9 1.4 1.5 0.6\n",
      "4.1 3.7 2.9 2.8 2.9 2.6 4.2 3.2 2.8 2.8\n",
      "R =  0.099 Ом, I = 32.000 А, U =  3.179 В\n"
     ]
    }
   ],
   "source": [
    "r = np.array(input().split(), dtype = float) # Список со значением сопротивления на каждом резисторе\n",
    "I = np.array(input().split(), dtype = float) # Список со значением силы тока на каждом резисторе\n",
    "R_reverce = 0\n",
    "I_chain = 0\n",
    "if len(r) == len(I):\n",
    "    for i in range(len(r)):\n",
    "        R_reverce = R_reverce + 1/r[i]\n",
    "        I_chain = I_chain + I[i]\n",
    "    R = 1 / R_reverce \n",
    "    U = I_chain * R\n",
    "    print(\"R = %6.3f Ом, I = %6.3f А, U = %6.3f В\" % (R, I_chain, U))\n",
    "else:\n",
    "    print('Error. Wrong lenght of arrays')\n"
   ]
  },
  {
   "cell_type": "markdown",
   "metadata": {},
   "source": [
    "Красивое и простое решение"
   ]
  },
  {
   "cell_type": "code",
   "execution_count": 6,
   "metadata": {},
   "outputs": [
    {
     "name": "stdout",
     "output_type": "stream",
     "text": [
      "0.9 0.6 1.3 1.6 1.6 0.9 0.9 1.4 1.5 0.6\n",
      "4.1 3.7 2.9 2.8 2.9 2.6 4.2 3.2 2.8 2.8\n",
      "R =  0.099 Ом, I = 32.000 А, U =  3.179 В\n"
     ]
    }
   ],
   "source": [
    "import numpy as np\n",
    "\n",
    "R = 1 / ((1 / np.array(input().split(), dtype = float)).sum())\n",
    "I = np.array(input().split(), dtype = float).sum()\n",
    "\n",
    "print(\"R = %6.3f Ом, I = %6.3f А, U = %6.3f В\" % (R, I, R * I))"
   ]
  },
  {
   "cell_type": "markdown",
   "metadata": {},
   "source": [
    "Задача 3"
   ]
  },
  {
   "cell_type": "markdown",
   "metadata": {},
   "source": [
    "Измерили дальности полета воды, выпущенной из шланга, под разными углами к горизонту. По этим данным построить тренд (полином второй степени) зависимости дальности полета от угла наклона шланга и найти дальность полета струи воды для произвольного угла."
   ]
  },
  {
   "cell_type": "code",
   "execution_count": 9,
   "metadata": {},
   "outputs": [
    {
     "name": "stdout",
     "output_type": "stream",
     "text": [
      "27 34 41 48 55 62 69 76 83 90 97\n",
      "75.23 95.49 98.03 89.5 84.57 82.07 69.58 48.82 26.36 0.0 -26.12\n",
      "34\n",
      "Дальность:  89.19 м\n"
     ]
    }
   ],
   "source": [
    "angle_of_hose = np.array(input().split(), dtype = int)\n",
    "lenght_of_flow = np.array(input().split(), dtype = float)\n",
    "angle_counted = float(input())\n",
    "\n",
    "def get_trend(x, a):\n",
    "    y = a[0] * x ** 2 + a[1] * x + a[2]\n",
    "    return y\n",
    "\n",
    "a = np.polyfit(angle_of_hose, lenght_of_flow, 2)\n",
    "lenght_counted = get_trend(angle_counted, a)\n",
    "\n",
    "print(\"Дальность: %6.2f м\" % lenght_counted)\n"
   ]
  },
  {
   "cell_type": "code",
   "execution_count": null,
   "metadata": {},
   "outputs": [],
   "source": [
    "27 34 41 48 55 62 69 76 83 90 97\n",
    "75.23 95.49 98.03 89.5 84.57 82.07 69.58 48.82 26.36 0.0 -26.12\n",
    "34"
   ]
  },
  {
   "cell_type": "markdown",
   "metadata": {},
   "source": [
    "Задача 4"
   ]
  },
  {
   "cell_type": "markdown",
   "metadata": {},
   "source": [
    "Трое сотрудников получили премию в размере 2970 р., причем второй получил 1/3 того, что получил первый, и еще 180 р., а третий получил 1/3 денег второго и еще 130 р. Какую премию получил каждый?\n"
   ]
  },
  {
   "cell_type": "code",
   "execution_count": 14,
   "metadata": {},
   "outputs": [
    {
     "name": "stdout",
     "output_type": "stream",
     "text": [
      "1800 р.,  780 р.,  390 р.\n"
     ]
    }
   ],
   "source": [
    "A = np.array([[1, 1, 1], [-1/3, 1, 0], [0, -1/3, 1]])\n",
    "B = np.array([[2970], [180], [130]])\n",
    "#print(A)\n",
    "#print(B)\n",
    "x = np.dot(inv(A), B)\n",
    "print(\"%4.0f р., %4.0f р., %4.0f р.\" % (x[0], x[1], x[2]))"
   ]
  },
  {
   "cell_type": "code",
   "execution_count": null,
   "metadata": {},
   "outputs": [],
   "source": []
  }
 ],
 "metadata": {
  "kernelspec": {
   "display_name": "Python 3",
   "language": "python",
   "name": "python3"
  },
  "language_info": {
   "codemirror_mode": {
    "name": "ipython",
    "version": 3
   },
   "file_extension": ".py",
   "mimetype": "text/x-python",
   "name": "python",
   "nbconvert_exporter": "python",
   "pygments_lexer": "ipython3",
   "version": "3.7.6"
  }
 },
 "nbformat": 4,
 "nbformat_minor": 4
}
