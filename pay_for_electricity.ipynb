{
 "cells": [
  {
   "cell_type": "code",
   "execution_count": 26,
   "metadata": {},
   "outputs": [
    {
     "name": "stdout",
     "output_type": "stream",
     "text": [
      "150 132 110 186 103 229 179 224 230 113 224 202\n",
      "148\n",
      "3.67\n",
      "4.83\n",
      "Сумма:   2082 кВт ч, стоимость 8151.34 руб\n"
     ]
    }
   ],
   "source": [
    "cons = list(map(int, input().split()))\n",
    "n = int(input()) # месячная норма потребления\n",
    "a = float(input()) # стоимость  1 кВт·ч в пределах нормы\n",
    "b = float(input()) # стоимость  1 кВт·ч сверх нормы\n",
    "cost = 0\n",
    "sum_cons = 0\n",
    "\n",
    "if len(cons) == 12:\n",
    "    for i in range(len(cons)):\n",
    "        sum_cons = cons[i] + sum_cons\n",
    "        if cons[i] <= n:\n",
    "            cost = cons[i] * a + cost\n",
    "        else:\n",
    "            cost = cost + n * a + (cons[i] - n) * b    \n",
    "    print(\"Сумма: %6d кВт ч, стоимость %7.2f руб\" % (sum_cons, cost)) \n",
    "    \n",
    "else:\n",
    "    print('Error. There are need to be 12 measurement in the year')"
   ]
  },
  {
   "cell_type": "code",
   "execution_count": 17,
   "metadata": {},
   "outputs": [
    {
     "ename": "SyntaxError",
     "evalue": "invalid syntax (<ipython-input-17-6dd5d20e3c34>, line 1)",
     "output_type": "error",
     "traceback": [
      "\u001b[1;36m  File \u001b[1;32m\"<ipython-input-17-6dd5d20e3c34>\"\u001b[1;36m, line \u001b[1;32m1\u001b[0m\n\u001b[1;33m    150 132 110 186 103 229 179 224 230 113 224 202\u001b[0m\n\u001b[1;37m          ^\u001b[0m\n\u001b[1;31mSyntaxError\u001b[0m\u001b[1;31m:\u001b[0m invalid syntax\n"
     ]
    }
   ],
   "source": [
    "150 132 110 186 103 229 179 224 230 113 224 202\n",
    "148\n",
    "3.67\n",
    "4.83"
   ]
  },
  {
   "cell_type": "code",
   "execution_count": 3,
   "metadata": {},
   "outputs": [
    {
     "ename": "SyntaxError",
     "evalue": "invalid syntax (<ipython-input-3-ec62eacd844b>, line 1)",
     "output_type": "error",
     "traceback": [
      "\u001b[1;36m  File \u001b[1;32m\"<ipython-input-3-ec62eacd844b>\"\u001b[1;36m, line \u001b[1;32m1\u001b[0m\n\u001b[1;33m    150 132 110 186 103 229 179 224 230 113 224 202\u001b[0m\n\u001b[1;37m          ^\u001b[0m\n\u001b[1;31mSyntaxError\u001b[0m\u001b[1;31m:\u001b[0m invalid syntax\n"
     ]
    }
   ],
   "source": [
    "150 132 110 186 103 229 179 224 230 113 224 202"
   ]
  },
  {
   "cell_type": "code",
   "execution_count": null,
   "metadata": {},
   "outputs": [],
   "source": []
  }
 ],
 "metadata": {
  "kernelspec": {
   "display_name": "Python 3",
   "language": "python",
   "name": "python3"
  },
  "language_info": {
   "codemirror_mode": {
    "name": "ipython",
    "version": 3
   },
   "file_extension": ".py",
   "mimetype": "text/x-python",
   "name": "python",
   "nbconvert_exporter": "python",
   "pygments_lexer": "ipython3",
   "version": "3.7.6"
  }
 },
 "nbformat": 4,
 "nbformat_minor": 4
}
